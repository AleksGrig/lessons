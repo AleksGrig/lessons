{
 "cells": [
  {
   "cell_type": "markdown",
   "metadata": {},
   "source": [
    "Task: given a sorted list of integers find a number, return index of that number or -1 if it's not in the list "
   ]
  },
  {
   "cell_type": "code",
   "execution_count": 6,
   "metadata": {},
   "outputs": [
    {
     "data": {
      "text/plain": [
       "3"
      ]
     },
     "execution_count": 6,
     "metadata": {},
     "output_type": "execute_result"
    }
   ],
   "source": [
    "def search(num, l):\n",
    "    def binary_search(first, last):\n",
    "        if first <= last:\n",
    "            middle = (first + last) // 2\n",
    "            if num < l[middle]:\n",
    "                return binary_search(first, middle-1)\n",
    "            elif num > l[middle]:\n",
    "                return binary_search(middle+1, last)\n",
    "            else:\n",
    "                return middle\n",
    "        else:\n",
    "            return -1    \n",
    "\n",
    "    return binary_search(0, len(l)-1)\n",
    "\n",
    "search(7, [-4, 0, 3, 7, 11])"
   ]
  }
 ],
 "metadata": {
  "kernelspec": {
   "display_name": "Python 3",
   "language": "python",
   "name": "python3"
  },
  "language_info": {
   "codemirror_mode": {
    "name": "ipython",
    "version": 3
   },
   "file_extension": ".py",
   "mimetype": "text/x-python",
   "name": "python",
   "nbconvert_exporter": "python",
   "pygments_lexer": "ipython3",
   "version": "3.12.0"
  }
 },
 "nbformat": 4,
 "nbformat_minor": 2
}
