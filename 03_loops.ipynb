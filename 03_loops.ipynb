{
 "cells": [
  {
   "cell_type": "markdown",
   "metadata": {},
   "source": [
    "<center>Loops</center>"
   ]
  },
  {
   "cell_type": "markdown",
   "metadata": {},
   "source": [
    "Loops are used to repeat portion of code a set number of times. Python has two types of loops: for loop and while loop."
   ]
  },
  {
   "cell_type": "markdown",
   "metadata": {},
   "source": [
    "For loop used to iterate over a sequence(that is either a list, tuple, set, dictionary, string or range)"
   ]
  },
  {
   "cell_type": "markdown",
   "metadata": {},
   "source": [
    "List example:"
   ]
  },
  {
   "cell_type": "code",
   "execution_count": 28,
   "metadata": {},
   "outputs": [
    {
     "name": "stdout",
     "output_type": "stream",
     "text": [
      "10\n",
      "20\n"
     ]
    }
   ],
   "source": [
    "my_list = [1, 2]\n",
    "for i in my_list:\n",
    "    i = i * 10\n",
    "    print(i)"
   ]
  },
  {
   "cell_type": "markdown",
   "metadata": {},
   "source": [
    "Tuple example:"
   ]
  },
  {
   "cell_type": "code",
   "execution_count": 24,
   "metadata": {},
   "outputs": [
    {
     "name": "stdout",
     "output_type": "stream",
     "text": [
      "i eat mango\n",
      "i eat apple\n",
      "i eat grape\n"
     ]
    }
   ],
   "source": [
    "my_tuple = ('mango', 'apple', 'grape')\n",
    "for i in my_tuple:\n",
    "    i = 'i eat ' + i \n",
    "    print(i)"
   ]
  },
  {
   "cell_type": "markdown",
   "metadata": {},
   "source": [
    "Set example:"
   ]
  },
  {
   "cell_type": "code",
   "execution_count": 25,
   "metadata": {},
   "outputs": [
    {
     "name": "stdout",
     "output_type": "stream",
     "text": [
      "False\n",
      "True\n",
      "it's true\n"
     ]
    }
   ],
   "source": [
    "my_set = {True, False}\n",
    "for i in my_set:\n",
    "    print(i)\n",
    "    if i:\n",
    "        print(\"it's true\")"
   ]
  },
  {
   "cell_type": "markdown",
   "metadata": {},
   "source": [
    "Dictionary example:"
   ]
  },
  {
   "cell_type": "code",
   "execution_count": 26,
   "metadata": {},
   "outputs": [
    {
     "name": "stdout",
     "output_type": "stream",
     "text": [
      "('alex', 5554443322)\n",
      "('shine', 5551112233)\n"
     ]
    }
   ],
   "source": [
    "my_dictionary = {'alex': 5554443322, 'shine': 5551112233}\n",
    "for i in my_dictionary.items():\n",
    "    print(i)"
   ]
  },
  {
   "cell_type": "markdown",
   "metadata": {},
   "source": [
    "String example:"
   ]
  },
  {
   "cell_type": "code",
   "execution_count": 32,
   "metadata": {},
   "outputs": [
    {
     "data": {
      "text/plain": [
       "'ccrriissppyy  ccrriitttteerrss'"
      ]
     },
     "execution_count": 32,
     "metadata": {},
     "output_type": "execute_result"
    }
   ],
   "source": [
    "my_string = \"crispy critters\"\n",
    "res = ''\n",
    "for i in my_string:\n",
    "    res = res + i*2\n",
    "res"
   ]
  },
  {
   "cell_type": "markdown",
   "metadata": {},
   "source": [
    "For loop with range(), return sequence of numbers<br>\n",
    "range(<strong>start</strong>[inclusive], <strong>end</strong>[exclusive], <strong>step</strong>)"
   ]
  },
  {
   "cell_type": "code",
   "execution_count": 36,
   "metadata": {},
   "outputs": [
    {
     "data": {
      "text/plain": [
       "[5, 4, 3, 2, 1, 0]"
      ]
     },
     "execution_count": 36,
     "metadata": {},
     "output_type": "execute_result"
    }
   ],
   "source": [
    "l = []\n",
    "for i in range(5,-1,-1):\n",
    "    l.append(i)\n",
    "l"
   ]
  },
  {
   "cell_type": "markdown",
   "metadata": {},
   "source": [
    "While loop executes a set of commands as long as condition is true"
   ]
  },
  {
   "cell_type": "code",
   "execution_count": 40,
   "metadata": {},
   "outputs": [
    {
     "data": {
      "text/plain": [
       "[0, 2]"
      ]
     },
     "execution_count": 40,
     "metadata": {},
     "output_type": "execute_result"
    }
   ],
   "source": [
    "i = 0\n",
    "l = []\n",
    "while i < 3:\n",
    "    l.append(i)\n",
    "    i = i + 2\n",
    "l"
   ]
  },
  {
   "cell_type": "markdown",
   "metadata": {},
   "source": [
    "Another way of exiting loop is using break statement "
   ]
  },
  {
   "cell_type": "code",
   "execution_count": 41,
   "metadata": {},
   "outputs": [
    {
     "data": {
      "text/plain": [
       "[0, 1, 2, 3]"
      ]
     },
     "execution_count": 41,
     "metadata": {},
     "output_type": "execute_result"
    }
   ],
   "source": [
    "i = 0\n",
    "l = []\n",
    "while True:\n",
    "    l.append(i)\n",
    "    i = i + 1\n",
    "    if i > 3:\n",
    "        break\n",
    "l"
   ]
  }
 ],
 "metadata": {
  "kernelspec": {
   "display_name": "Python 3",
   "language": "python",
   "name": "python3"
  },
  "language_info": {
   "codemirror_mode": {
    "name": "ipython",
    "version": 3
   },
   "file_extension": ".py",
   "mimetype": "text/x-python",
   "name": "python",
   "nbconvert_exporter": "python",
   "pygments_lexer": "ipython3",
   "version": "3.12.0"
  }
 },
 "nbformat": 4,
 "nbformat_minor": 2
}
