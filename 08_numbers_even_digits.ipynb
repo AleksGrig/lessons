{
 "cells": [
  {
   "cell_type": "markdown",
   "metadata": {},
   "source": [
    "Task: given an array of integers, return how many of them contain even number of digits"
   ]
  },
  {
   "cell_type": "code",
   "execution_count": 15,
   "metadata": {},
   "outputs": [
    {
     "data": {
      "text/plain": [
       "2"
      ]
     },
     "execution_count": 15,
     "metadata": {},
     "output_type": "execute_result"
    }
   ],
   "source": [
    "def find_even(nums):\n",
    "    def even_digits(num):\n",
    "        i = 0\n",
    "        while num:\n",
    "            num = num // 10\n",
    "            i = i + 1\n",
    "        return i % 2 == 0\n",
    "\n",
    "    result = 0\n",
    "    for i in nums:\n",
    "        if even_digits(i):\n",
    "            result = result + 1\n",
    "    return result\n",
    "\n",
    "find_even([1, 20, 4000])"
   ]
  }
 ],
 "metadata": {
  "kernelspec": {
   "display_name": "Python 3",
   "language": "python",
   "name": "python3"
  },
  "language_info": {
   "codemirror_mode": {
    "name": "ipython",
    "version": 3
   },
   "file_extension": ".py",
   "mimetype": "text/x-python",
   "name": "python",
   "nbconvert_exporter": "python",
   "pygments_lexer": "ipython3",
   "version": "3.12.0"
  }
 },
 "nbformat": 4,
 "nbformat_minor": 2
}
