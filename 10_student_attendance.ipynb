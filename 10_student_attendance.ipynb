{
 "cells": [
  {
   "cell_type": "markdown",
   "metadata": {},
   "source": [
    "Task: given a string representing an attendance record for a student where each letter signifies wether the student was present, late or absent on that day. The record only contains the following three characters:\n",
    "- 'A' - absent\n",
    "- 'L' - late\n",
    "- 'P' - present<br>\n",
    "\n",
    "The students are eligible for attendane reward if they meet both criteria:\n",
    "- The student was 'A'(absent) strictly fewer than 3 days total\n",
    "- The student was never 'L'(late) for 3 or more consecutive days\n",
    "\n",
    "Example: 'APPLLPPPL' -> True, 'PPPPPLLLPPA' -> False\n"
   ]
  },
  {
   "cell_type": "code",
   "execution_count": 4,
   "metadata": {},
   "outputs": [
    {
     "data": {
      "text/plain": [
       "False"
      ]
     },
     "execution_count": 4,
     "metadata": {},
     "output_type": "execute_result"
    }
   ],
   "source": [
    "def award(record):\n",
    "    absent = 0\n",
    "    late = 0\n",
    "    for i in record:\n",
    "        if i == 'L':\n",
    "            late = late + 1\n",
    "            if late >= 3:\n",
    "                return False\n",
    "        else:\n",
    "            late = 0\n",
    "            if i == 'A':\n",
    "                absent = absent + 1\n",
    "                if absent >= 3:\n",
    "                    return False\n",
    "    return True\n",
    "\n",
    "award('PPAPPPLALPPA')"
   ]
  }
 ],
 "metadata": {
  "kernelspec": {
   "display_name": "Python 3",
   "language": "python",
   "name": "python3"
  },
  "language_info": {
   "codemirror_mode": {
    "name": "ipython",
    "version": 3
   },
   "file_extension": ".py",
   "mimetype": "text/x-python",
   "name": "python",
   "nbconvert_exporter": "python",
   "pygments_lexer": "ipython3",
   "version": "3.12.0"
  }
 },
 "nbformat": 4,
 "nbformat_minor": 2
}
